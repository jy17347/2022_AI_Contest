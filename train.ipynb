{
 "cells": [
  {
   "cell_type": "code",
   "execution_count": 2,
   "metadata": {},
   "outputs": [],
   "source": [
    "import time, os\n",
    "import numpy as np\n",
    "import pandas as pd\n",
    "import tensorflow as tf\n",
    "from matplotlib import pyplot as plt\n",
    "from get_dataset import Audio_dataset\n",
    "from sklearn.model_selection import train_test_split\n",
    "from tensorflow.keras.utils import plot_model\n",
    "import librosa\n",
    "import librosa.display\n",
    "from transform import LoadAudio\n",
    "from transform import FixAudioLength\n",
    "from transform import ToMelSpectrogram"
   ]
  },
  {
   "cell_type": "code",
   "execution_count": 8,
   "metadata": {},
   "outputs": [
    {
     "name": "stderr",
     "output_type": "stream",
     "text": [
      "c:\\Project\\AI_Contest\\transform.py:13: FutureWarning: Pass sr=16000 as keyword args. From version 0.10 passing these as positional arguments will result in an error\n",
      "  samples, sample_rate = librosa.load(path, self.sample_rate)\n",
      "c:\\Project\\AI_Contest\\transform.py:45: FutureWarning: Pass y=[ 0.          0.          0.         ... -0.00016728 -0.00960153\n",
      " -0.01155498] as keyword args. From version 0.10 passing these as positional arguments will result in an error\n",
      "  s = librosa.feature.melspectrogram(samples, sr=sample_rate, n_mels=self.n_mels)\n"
     ]
    },
    {
     "data": {
      "text/plain": [
       "<matplotlib.collections.QuadMesh at 0x26a48fbbb20>"
      ]
     },
     "execution_count": 8,
     "metadata": {},
     "output_type": "execute_result"
    },
    {
     "data": {
      "image/png": "[encoded data removed]",
      "text/plain": [
       "<Figure size 432x288 with 1 Axes>"
      ]
     },
     "metadata": {},
     "output_type": "display_data"
    }
   ],
   "source": [
    "path_dataset = \"./sample\"\n",
    "\n",
    "dataset = Audio_dataset(path_dataset)\n",
    "LA = LoadAudio()\n",
    "FA = FixAudioLength()\n",
    "MS = ToMelSpectrogram()\n",
    "\n",
    "dataset = MS(FA(LA(dataset[9])))\n",
    "\n",
    "plt.figure()\n",
    "librosa.display.specshow(dataset['mel_spectrogram'])"
   ]
  },
  {
   "cell_type": "code",
   "execution_count": null,
   "metadata": {},
   "outputs": [],
   "source": []
  }
 ],
 "metadata": {
  "kernelspec": {
   "display_name": "Python 3.9.7 ('kwix')",
   "language": "python",
   "name": "python3"
  },
  "language_info": {
   "codemirror_mode": {
    "name": "ipython",
    "version": 3
   },
   "file_extension": ".py",
   "mimetype": "text/x-python",
   "name": "python",
   "nbconvert_exporter": "python",
   "pygments_lexer": "ipython3",
   "version": "3.9.7"
  },
  "orig_nbformat": 4,
  "vscode": {
   "interpreter": {
    "hash": "eee639eda16c9e05b4c77b43e0cc7d48f6e599f20bfdf495043e1fe9a8ebacc8"
   }
  }
 },
 "nbformat": 4,
 "nbformat_minor": 2
}
